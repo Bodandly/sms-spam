{
 "metadata": {
  "name": "",
  "signature": "sha256:37abd52d2d4a1c50c7c0ba04da573bbcca240d3e643bf1b64a9e0e61d2a3fee2"
 },
 "nbformat": 3,
 "nbformat_minor": 0,
 "worksheets": [
  {
   "cells": [
    {
     "cell_type": "code",
     "collapsed": false,
     "input": [
      "import pandas as pd\n",
      "import numpy as np\n",
      "import seaborn as sns\n",
      "import matplotlib.pyplot as plt\n",
      "import sklearn\n",
      "import re\n",
      "from textblob import TextBlob\n",
      "from sklearn.cross_validation import train_test_split\n",
      "from sklearn.naive_bayes import GaussianNB\n",
      "from sklearn.naive_bayes import BernoulliNB\n",
      "\n",
      "from sklearn import metrics\n",
      "from sklearn.cross_validation import cross_val_score\n",
      "from sklearn.ensemble import RandomForestClassifier \n",
      "from sklearn.tree import DecisionTreeClassifier, export_graphviz\n",
      "from sklearn.externals.six import StringIO  \n",
      "from sklearn.ensemble import ExtraTreesClassifier\n",
      "from sklearn.cluster import KMeans\n",
      "from sklearn.decomposition import PCA\n",
      "from sklearn.feature_extraction.text import CountVectorizer, TfidfTransformer\n",
      "from sklearn.naive_bayes import MultinomialNB\n",
      "from sklearn.svm import SVC, LinearSVC\n",
      "from sklearn.metrics import classification_report, f1_score, accuracy_score, confusion_matrix\n",
      "from sklearn.pipeline import Pipeline\n",
      "from sklearn.grid_search import GridSearchCV\n",
      "from sklearn.cross_validation import StratifiedKFold, cross_val_score, train_test_split \n",
      "from sklearn.tree import DecisionTreeClassifier \n",
      "from sklearn.learning_curve import learning_curve\n",
      "from sklearn.linear_model import LogisticRegression\n",
      "from sklearn import preprocessing"
     ],
     "language": "python",
     "metadata": {},
     "outputs": [],
     "prompt_number": 48
    },
    {
     "cell_type": "code",
     "collapsed": false,
     "input": [
      "%matplotlib inline"
     ],
     "language": "python",
     "metadata": {},
     "outputs": [],
     "prompt_number": 49
    },
    {
     "cell_type": "code",
     "collapsed": false,
     "input": [
      "texts = pd.read_csv(\"smsspamcollection/SMSSpamCollection\", sep=\"\\t\", names=[\"label\",\"message\"])"
     ],
     "language": "python",
     "metadata": {},
     "outputs": [],
     "prompt_number": 50
    },
    {
     "cell_type": "code",
     "collapsed": false,
     "input": [
      "texts.head()"
     ],
     "language": "python",
     "metadata": {},
     "outputs": [
      {
       "html": [
        "<div style=\"max-height:1000px;max-width:1500px;overflow:auto;\">\n",
        "<table border=\"1\" class=\"dataframe\">\n",
        "  <thead>\n",
        "    <tr style=\"text-align: right;\">\n",
        "      <th></th>\n",
        "      <th>label</th>\n",
        "      <th>message</th>\n",
        "    </tr>\n",
        "  </thead>\n",
        "  <tbody>\n",
        "    <tr>\n",
        "      <th>0</th>\n",
        "      <td>  ham</td>\n",
        "      <td> Go until jurong point, crazy.. Available only ...</td>\n",
        "    </tr>\n",
        "    <tr>\n",
        "      <th>1</th>\n",
        "      <td>  ham</td>\n",
        "      <td>                     Ok lar... Joking wif u oni...</td>\n",
        "    </tr>\n",
        "    <tr>\n",
        "      <th>2</th>\n",
        "      <td> spam</td>\n",
        "      <td> Free entry in 2 a wkly comp to win FA Cup fina...</td>\n",
        "    </tr>\n",
        "    <tr>\n",
        "      <th>3</th>\n",
        "      <td>  ham</td>\n",
        "      <td> U dun say so early hor... U c already then say...</td>\n",
        "    </tr>\n",
        "    <tr>\n",
        "      <th>4</th>\n",
        "      <td>  ham</td>\n",
        "      <td> Nah I don't think he goes to usf, he lives aro...</td>\n",
        "    </tr>\n",
        "  </tbody>\n",
        "</table>\n",
        "</div>"
       ],
       "metadata": {},
       "output_type": "pyout",
       "prompt_number": 51,
       "text": [
        "  label                                            message\n",
        "0   ham  Go until jurong point, crazy.. Available only ...\n",
        "1   ham                      Ok lar... Joking wif u oni...\n",
        "2  spam  Free entry in 2 a wkly comp to win FA Cup fina...\n",
        "3   ham  U dun say so early hor... U c already then say...\n",
        "4   ham  Nah I don't think he goes to usf, he lives aro..."
       ]
      }
     ],
     "prompt_number": 51
    },
    {
     "cell_type": "code",
     "collapsed": false,
     "input": [
      "def for_free(word_list):\n",
      "    temp_list = []\n",
      "    for word in word_list:\n",
      "        temp_list.append(word.lower())\n",
      "    if 'for' in temp_list and 'free' in temp_list:\n",
      "        return 1\n",
      "    else:\n",
      "        return 0\n",
      "   \n",
      "    \n",
      "def greater_than_twenty_four(word_count):\n",
      "    if word_count >= 25:\n",
      "        return 1\n",
      "    else:\n",
      "        return 0\n",
      "    \n",
      "    \n",
      "def check_for_pronouns(word_list):\n",
      "    pronouns = ['me', 'my', 'i', 'mine']\n",
      "    for x in word_list:\n",
      "        x = x.lower()\n",
      "        if x in pronouns:\n",
      "            return 1\n",
      "    return 0\n",
      "\n",
      "\n",
      "def check_for_spam_words(words_list):\n",
      "    words = ['claim', 'winner', ]\n",
      "    for word in words_list:\n",
      "        if word.lower() == 'claim':\n",
      "            return 0\n",
      "    return 1\n",
      "\n",
      "def check_for_lor(words_list):\n",
      "    for word in words_list:\n",
      "        if word.lower() == 'lor':\n",
      "            return 1\n",
      "    return 0\n",
      "\n",
      "def check_for_pound(words_list):\n",
      "    for word in words_list:\n",
      "        if word == '\u00a3':\n",
      "            return 1\n",
      "    return 0\n",
      "    \n",
      "def change_ham_spam(text):\n",
      "    if text == 'ham':\n",
      "        return 0\n",
      "    else:\n",
      "        return 1\n",
      "\n",
      "#def find_money(text):\n",
      "#   re.search(match = ^\\$?([0-9]{1,3},([0-9]{3},)*[0-9]{3}|[0-9]+)(.[0-9][0-9])?$, text)\n",
      "    \n",
      "    \n",
      "    \n",
      "#def check_for_capitals(text):\n",
      "#    counter = 0\n",
      "#    for letter in text:\n",
      "#        if letter.upper() == letter:\n",
      "#            counter += 1\n",
      "#            if counter == 5:\n",
      "#               return 1\n",
      "#    return 0\n",
      "\n",
      "def find_prize(words):\n",
      "    for word in words:\n",
      "        if word.lower() == 'prize':\n",
      "            return 1\n",
      "    return 0\n",
      "\n",
      "def check_for_num(letters):\n",
      "    nums = ['0', '1', '2', '3', '4', '5', '6', '7', '8', '9']\n",
      "    for letter in letters:\n",
      "        if letter in nums:\n",
      "            return 1\n",
      "    return 0\n",
      "\n",
      "\n",
      "def turn_to_blob(message):\n",
      "    return TextBlob(message).words\n",
      "\n",
      "\n",
      "def turn_to_blob_letters(message):\n",
      "    return TextBlob(message)\n",
      "\n",
      "def split_into_lemmas(message):\n",
      "   # message = unicode(message, 'utf8').lower()\n",
      "    words = TextBlob(message).words\n",
      "    # for each word, take its \"base form\" = lemma \n",
      "    return [word.lemma for word in words]"
     ],
     "language": "python",
     "metadata": {},
     "outputs": [],
     "prompt_number": 52
    },
    {
     "cell_type": "code",
     "collapsed": false,
     "input": [
      "texts['ham or spam'] = texts['label'].apply(change_ham_spam)\n",
      "texts['message blob'] = texts.message.apply(turn_to_blob)\n",
      "texts['message blob letters'] = texts.message.apply(turn_to_blob_letters)\n",
      "texts['message length'] = texts.message.apply(lambda x: len(x))\n",
      "texts['word count'] = texts['message blob'].apply(lambda x: len(x))\n",
      "texts['greater than 24'] = texts['word count'].apply(greater_than_twenty_four)\n",
      "texts['pronouns'] = texts['message blob'].apply(check_for_pronouns)\n",
      "#texts['prize'] = texts['message blob'].apply(find_prize)\n",
      "#texts['lor'] = texts['message blob'].apply(check_for_lor)\n",
      "#texts['\u00a3'] = texts['message blob letters'].apply(check_for_pound)\n",
      "#texts['capitls'] = texts['message blob letters'].apply(check_for_capitals)\n",
      "texts['numbers'] = texts['message blob letters'].apply(check_for_num)\n"
     ],
     "language": "python",
     "metadata": {},
     "outputs": [],
     "prompt_number": 53
    },
    {
     "cell_type": "code",
     "collapsed": false,
     "input": [
      "texts['ham or spam'] = texts['label'].apply(change_ham_spam)"
     ],
     "language": "python",
     "metadata": {},
     "outputs": [],
     "prompt_number": 54
    },
    {
     "cell_type": "code",
     "collapsed": false,
     "input": [
      "texts.head(12)"
     ],
     "language": "python",
     "metadata": {},
     "outputs": [
      {
       "html": [
        "<div style=\"max-height:1000px;max-width:1500px;overflow:auto;\">\n",
        "<table border=\"1\" class=\"dataframe\">\n",
        "  <thead>\n",
        "    <tr style=\"text-align: right;\">\n",
        "      <th></th>\n",
        "      <th>label</th>\n",
        "      <th>message</th>\n",
        "      <th>ham or spam</th>\n",
        "      <th>message blob</th>\n",
        "      <th>message blob letters</th>\n",
        "      <th>message length</th>\n",
        "      <th>word count</th>\n",
        "      <th>greater than 24</th>\n",
        "      <th>pronouns</th>\n",
        "      <th>numbers</th>\n",
        "    </tr>\n",
        "  </thead>\n",
        "  <tbody>\n",
        "    <tr>\n",
        "      <th>0 </th>\n",
        "      <td>  ham</td>\n",
        "      <td> Go until jurong point, crazy.. Available only ...</td>\n",
        "      <td> 0</td>\n",
        "      <td> [Go, until, jurong, point, crazy, Available, o...</td>\n",
        "      <td> (G, o,  , u, n, t, i, l,  , j, u, r, o, n, g, ...</td>\n",
        "      <td> 111</td>\n",
        "      <td> 20</td>\n",
        "      <td> 0</td>\n",
        "      <td> 0</td>\n",
        "      <td> 0</td>\n",
        "    </tr>\n",
        "    <tr>\n",
        "      <th>1 </th>\n",
        "      <td>  ham</td>\n",
        "      <td>                     Ok lar... Joking wif u oni...</td>\n",
        "      <td> 0</td>\n",
        "      <td>                    [Ok, lar, Joking, wif, u, oni]</td>\n",
        "      <td> (O, k,  , l, a, r, ., ., .,  , J, o, k, i, n, ...</td>\n",
        "      <td>  29</td>\n",
        "      <td>  6</td>\n",
        "      <td> 0</td>\n",
        "      <td> 0</td>\n",
        "      <td> 0</td>\n",
        "    </tr>\n",
        "    <tr>\n",
        "      <th>2 </th>\n",
        "      <td> spam</td>\n",
        "      <td> Free entry in 2 a wkly comp to win FA Cup fina...</td>\n",
        "      <td> 1</td>\n",
        "      <td> [Free, entry, in, 2, a, wkly, comp, to, win, F...</td>\n",
        "      <td> (F, r, e, e,  , e, n, t, r, y,  , i, n,  , 2, ...</td>\n",
        "      <td> 155</td>\n",
        "      <td> 33</td>\n",
        "      <td> 1</td>\n",
        "      <td> 0</td>\n",
        "      <td> 1</td>\n",
        "    </tr>\n",
        "    <tr>\n",
        "      <th>3 </th>\n",
        "      <td>  ham</td>\n",
        "      <td> U dun say so early hor... U c already then say...</td>\n",
        "      <td> 0</td>\n",
        "      <td> [U, dun, say, so, early, hor, U, c, already, t...</td>\n",
        "      <td> (U,  , d, u, n,  , s, a, y,  , s, o,  , e, a, ...</td>\n",
        "      <td>  49</td>\n",
        "      <td> 11</td>\n",
        "      <td> 0</td>\n",
        "      <td> 0</td>\n",
        "      <td> 0</td>\n",
        "    </tr>\n",
        "    <tr>\n",
        "      <th>4 </th>\n",
        "      <td>  ham</td>\n",
        "      <td> Nah I don't think he goes to usf, he lives aro...</td>\n",
        "      <td> 0</td>\n",
        "      <td> [Nah, I, do, n't, think, he, goes, to, usf, he...</td>\n",
        "      <td> (N, a, h,  , I,  , d, o, n, ', t,  , t, h, i, ...</td>\n",
        "      <td>  61</td>\n",
        "      <td> 14</td>\n",
        "      <td> 0</td>\n",
        "      <td> 1</td>\n",
        "      <td> 0</td>\n",
        "    </tr>\n",
        "    <tr>\n",
        "      <th>5 </th>\n",
        "      <td> spam</td>\n",
        "      <td> FreeMsg Hey there darling it's been 3 week's n...</td>\n",
        "      <td> 1</td>\n",
        "      <td> [FreeMsg, Hey, there, darling, it, 's, been, 3...</td>\n",
        "      <td> (F, r, e, e, M, s, g,  , H, e, y,  , t, h, e, ...</td>\n",
        "      <td> 147</td>\n",
        "      <td> 35</td>\n",
        "      <td> 1</td>\n",
        "      <td> 1</td>\n",
        "      <td> 1</td>\n",
        "    </tr>\n",
        "    <tr>\n",
        "      <th>6 </th>\n",
        "      <td>  ham</td>\n",
        "      <td> Even my brother is not like to speak with me. ...</td>\n",
        "      <td> 0</td>\n",
        "      <td> [Even, my, brother, is, not, like, to, speak, ...</td>\n",
        "      <td> (E, v, e, n,  , m, y,  , b, r, o, t, h, e, r, ...</td>\n",
        "      <td>  77</td>\n",
        "      <td> 16</td>\n",
        "      <td> 0</td>\n",
        "      <td> 1</td>\n",
        "      <td> 0</td>\n",
        "    </tr>\n",
        "    <tr>\n",
        "      <th>7 </th>\n",
        "      <td>  ham</td>\n",
        "      <td> As per your request 'Melle Melle (Oru Minnamin...</td>\n",
        "      <td> 0</td>\n",
        "      <td> [As, per, your, request, 'Melle, Melle, Oru, M...</td>\n",
        "      <td> (A, s,  , p, e, r,  , y, o, u, r,  , r, e, q, ...</td>\n",
        "      <td> 160</td>\n",
        "      <td> 26</td>\n",
        "      <td> 1</td>\n",
        "      <td> 0</td>\n",
        "      <td> 1</td>\n",
        "    </tr>\n",
        "    <tr>\n",
        "      <th>8 </th>\n",
        "      <td> spam</td>\n",
        "      <td> WINNER!! As a valued network customer you have...</td>\n",
        "      <td> 1</td>\n",
        "      <td> [WINNER, As, a, valued, network, customer, you...</td>\n",
        "      <td> (W, I, N, N, E, R, !, !,  , A, s,  , a,  , v, ...</td>\n",
        "      <td> 157</td>\n",
        "      <td> 26</td>\n",
        "      <td> 1</td>\n",
        "      <td> 0</td>\n",
        "      <td> 1</td>\n",
        "    </tr>\n",
        "    <tr>\n",
        "      <th>9 </th>\n",
        "      <td> spam</td>\n",
        "      <td> Had your mobile 11 months or more? U R entitle...</td>\n",
        "      <td> 1</td>\n",
        "      <td> [Had, your, mobile, 11, months, or, more, U, R...</td>\n",
        "      <td> (H, a, d,  , y, o, u, r,  , m, o, b, i, l, e, ...</td>\n",
        "      <td> 154</td>\n",
        "      <td> 29</td>\n",
        "      <td> 1</td>\n",
        "      <td> 0</td>\n",
        "      <td> 1</td>\n",
        "    </tr>\n",
        "    <tr>\n",
        "      <th>10</th>\n",
        "      <td>  ham</td>\n",
        "      <td> I'm gonna be home soon and i don't want to tal...</td>\n",
        "      <td> 0</td>\n",
        "      <td> [I, 'm, gon, na, be, home, soon, and, i, do, n...</td>\n",
        "      <td> (I, ', m,  , g, o, n, n, a,  , b, e,  , h, o, ...</td>\n",
        "      <td> 109</td>\n",
        "      <td> 25</td>\n",
        "      <td> 1</td>\n",
        "      <td> 1</td>\n",
        "      <td> 0</td>\n",
        "    </tr>\n",
        "    <tr>\n",
        "      <th>11</th>\n",
        "      <td> spam</td>\n",
        "      <td> SIX chances to win CASH! From 100 to 20,000 po...</td>\n",
        "      <td> 1</td>\n",
        "      <td> [SIX, chances, to, win, CASH, From, 100, to, 2...</td>\n",
        "      <td> (S, I, X,  , c, h, a, n, c, e, s,  , t, o,  , ...</td>\n",
        "      <td> 136</td>\n",
        "      <td> 26</td>\n",
        "      <td> 1</td>\n",
        "      <td> 0</td>\n",
        "      <td> 1</td>\n",
        "    </tr>\n",
        "  </tbody>\n",
        "</table>\n",
        "</div>"
       ],
       "metadata": {},
       "output_type": "pyout",
       "prompt_number": 55,
       "text": [
        "   label                                            message  ham or spam  \\\n",
        "0    ham  Go until jurong point, crazy.. Available only ...            0   \n",
        "1    ham                      Ok lar... Joking wif u oni...            0   \n",
        "2   spam  Free entry in 2 a wkly comp to win FA Cup fina...            1   \n",
        "3    ham  U dun say so early hor... U c already then say...            0   \n",
        "4    ham  Nah I don't think he goes to usf, he lives aro...            0   \n",
        "5   spam  FreeMsg Hey there darling it's been 3 week's n...            1   \n",
        "6    ham  Even my brother is not like to speak with me. ...            0   \n",
        "7    ham  As per your request 'Melle Melle (Oru Minnamin...            0   \n",
        "8   spam  WINNER!! As a valued network customer you have...            1   \n",
        "9   spam  Had your mobile 11 months or more? U R entitle...            1   \n",
        "10   ham  I'm gonna be home soon and i don't want to tal...            0   \n",
        "11  spam  SIX chances to win CASH! From 100 to 20,000 po...            1   \n",
        "\n",
        "                                         message blob  \\\n",
        "0   [Go, until, jurong, point, crazy, Available, o...   \n",
        "1                      [Ok, lar, Joking, wif, u, oni]   \n",
        "2   [Free, entry, in, 2, a, wkly, comp, to, win, F...   \n",
        "3   [U, dun, say, so, early, hor, U, c, already, t...   \n",
        "4   [Nah, I, do, n't, think, he, goes, to, usf, he...   \n",
        "5   [FreeMsg, Hey, there, darling, it, 's, been, 3...   \n",
        "6   [Even, my, brother, is, not, like, to, speak, ...   \n",
        "7   [As, per, your, request, 'Melle, Melle, Oru, M...   \n",
        "8   [WINNER, As, a, valued, network, customer, you...   \n",
        "9   [Had, your, mobile, 11, months, or, more, U, R...   \n",
        "10  [I, 'm, gon, na, be, home, soon, and, i, do, n...   \n",
        "11  [SIX, chances, to, win, CASH, From, 100, to, 2...   \n",
        "\n",
        "                                 message blob letters  message length  \\\n",
        "0   (G, o,  , u, n, t, i, l,  , j, u, r, o, n, g, ...             111   \n",
        "1   (O, k,  , l, a, r, ., ., .,  , J, o, k, i, n, ...              29   \n",
        "2   (F, r, e, e,  , e, n, t, r, y,  , i, n,  , 2, ...             155   \n",
        "3   (U,  , d, u, n,  , s, a, y,  , s, o,  , e, a, ...              49   \n",
        "4   (N, a, h,  , I,  , d, o, n, ', t,  , t, h, i, ...              61   \n",
        "5   (F, r, e, e, M, s, g,  , H, e, y,  , t, h, e, ...             147   \n",
        "6   (E, v, e, n,  , m, y,  , b, r, o, t, h, e, r, ...              77   \n",
        "7   (A, s,  , p, e, r,  , y, o, u, r,  , r, e, q, ...             160   \n",
        "8   (W, I, N, N, E, R, !, !,  , A, s,  , a,  , v, ...             157   \n",
        "9   (H, a, d,  , y, o, u, r,  , m, o, b, i, l, e, ...             154   \n",
        "10  (I, ', m,  , g, o, n, n, a,  , b, e,  , h, o, ...             109   \n",
        "11  (S, I, X,  , c, h, a, n, c, e, s,  , t, o,  , ...             136   \n",
        "\n",
        "    word count  greater than 24  pronouns  numbers  \n",
        "0           20                0         0        0  \n",
        "1            6                0         0        0  \n",
        "2           33                1         0        1  \n",
        "3           11                0         0        0  \n",
        "4           14                0         1        0  \n",
        "5           35                1         1        1  \n",
        "6           16                0         1        0  \n",
        "7           26                1         0        1  \n",
        "8           26                1         0        1  \n",
        "9           29                1         0        1  \n",
        "10          25                1         1        0  \n",
        "11          26                1         0        1  "
       ]
      }
     ],
     "prompt_number": 55
    },
    {
     "cell_type": "code",
     "collapsed": false,
     "input": [
      "test_df = texts[['message', 'message blob letters']]"
     ],
     "language": "python",
     "metadata": {},
     "outputs": [],
     "prompt_number": 56
    },
    {
     "cell_type": "code",
     "collapsed": false,
     "input": [
      "test_df.message"
     ],
     "language": "python",
     "metadata": {},
     "outputs": [
      {
       "metadata": {},
       "output_type": "pyout",
       "prompt_number": 57,
       "text": [
        "0     Go until jurong point, crazy.. Available only ...\n",
        "1                         Ok lar... Joking wif u oni...\n",
        "2     Free entry in 2 a wkly comp to win FA Cup fina...\n",
        "3     U dun say so early hor... U c already then say...\n",
        "4     Nah I don't think he goes to usf, he lives aro...\n",
        "5     FreeMsg Hey there darling it's been 3 week's n...\n",
        "6     Even my brother is not like to speak with me. ...\n",
        "7     As per your request 'Melle Melle (Oru Minnamin...\n",
        "8     WINNER!! As a valued network customer you have...\n",
        "9     Had your mobile 11 months or more? U R entitle...\n",
        "10    I'm gonna be home soon and i don't want to tal...\n",
        "11    SIX chances to win CASH! From 100 to 20,000 po...\n",
        "12    URGENT! You have won a 1 week FREE membership ...\n",
        "13    I've been searching for the right words to tha...\n",
        "14                  I HAVE A DATE ON SUNDAY WITH WILL!!\n",
        "...\n",
        "5557    No. I meant the calculation is the same. That ...\n",
        "5558                               Sorry, I'll call later\n",
        "5559    if you aren't here in the next  &lt;#&gt;  hou...\n",
        "5560                    Anything lor. Juz both of us lor.\n",
        "5561    Get me out of this dump heap. My mom decided t...\n",
        "5562    Ok lor... Sony ericsson salesman... I ask shuh...\n",
        "5563                                  Ard 6 like dat lor.\n",
        "5564    Why don't you wait 'til at least wednesday to ...\n",
        "5565                                         Huh y lei...\n",
        "5566    REMINDER FROM O2: To get 2.50 pounds free call...\n",
        "5567    This is the 2nd time we have tried 2 contact u...\n",
        "5568                 Will \u00fc b going to esplanade fr home?\n",
        "5569    Pity, * was in mood for that. So...any other s...\n",
        "5570    The guy did some bitching but I acted like i'd...\n",
        "5571                           Rofl. Its true to its name\n",
        "Name: message, Length: 5572, dtype: object"
       ]
      }
     ],
     "prompt_number": 57
    },
    {
     "cell_type": "code",
     "collapsed": false,
     "input": [
      "pd.pivot_table(texts, index=['ham or spam'], values=[\"word count\"]).plot(kind='barh')"
     ],
     "language": "python",
     "metadata": {},
     "outputs": [
      {
       "metadata": {},
       "output_type": "pyout",
       "prompt_number": 58,
       "text": [
        "<matplotlib.axes._subplots.AxesSubplot at 0x11aee8d68>"
       ]
      },
      {
       "metadata": {},
       "output_type": "display_data",
       "png": "[encoded data removed]",
       "text": [
        "<matplotlib.figure.Figure at 0x11aee8f60>"
       ]
      }
     ],
     "prompt_number": 58
    },
    {
     "cell_type": "code",
     "collapsed": false,
     "input": [
      "grouped = texts.groupby('ham or spam')"
     ],
     "language": "python",
     "metadata": {},
     "outputs": [],
     "prompt_number": 59
    },
    {
     "cell_type": "code",
     "collapsed": false,
     "input": [
      "grouped.hist(figsize=(6,6))"
     ],
     "language": "python",
     "metadata": {},
     "outputs": [
      {
       "metadata": {},
       "output_type": "pyout",
       "prompt_number": 60,
       "text": [
        "ham or spam\n",
        "0              [[Axes(0.125,0.684722;0.336957x0.215278), Axes...\n",
        "1              [[Axes(0.125,0.684722;0.336957x0.215278), Axes...\n",
        "dtype: object"
       ]
      },
      {
       "metadata": {},
       "output_type": "display_data",
       "png": "[encoded data removed]",
       "text": [
        "<matplotlib.figure.Figure at 0x11de6eba8>"
       ]
      },
      {
       "metadata": {},
       "output_type": "display_data",
       "png": "[encoded data removed]",
       "text": [
        "<matplotlib.figure.Figure at 0x11f659cf8>"
       ]
      }
     ],
     "prompt_number": 60
    },
    {
     "cell_type": "code",
     "collapsed": false,
     "input": [],
     "language": "python",
     "metadata": {},
     "outputs": [],
     "prompt_number": 60
    },
    {
     "cell_type": "code",
     "collapsed": false,
     "input": [
      "attributes_train, attributes_test, class_train, class_test = train_test_split(texts.loc[0::,'greater than 24':\"numbers\"], texts.loc[0::,\"ham or spam\"],\n",
      "                                                                              test_size=0.4, random_state=0)"
     ],
     "language": "python",
     "metadata": {},
     "outputs": [],
     "prompt_number": 61
    },
    {
     "cell_type": "code",
     "collapsed": false,
     "input": [
      "spam_classifier = GaussianNB()\n",
      "spam_classifier = spam_classifier.fit(attributes_train, class_train)\n",
      "spam_classifier_predicted = spam_classifier.predict(attributes_test)\n",
      "\n",
      "\n",
      "print(metrics.classification_report(class_test, spam_classifier_predicted))\n",
      "print(metrics.confusion_matrix(class_test, spam_classifier_predicted))\n",
      "print(metrics.f1_score(class_test, spam_classifier_predicted))"
     ],
     "language": "python",
     "metadata": {},
     "outputs": [
      {
       "output_type": "stream",
       "stream": "stdout",
       "text": [
        "             precision    recall  f1-score   support\n",
        "\n",
        "          0       0.98      0.95      0.96      1935\n",
        "          1       0.71      0.86      0.78       294\n",
        "\n",
        "avg / total       0.94      0.94      0.94      2229\n",
        "\n",
        "[[1832  103]\n",
        " [  40  254]]\n",
        "0.780337941628\n"
       ]
      }
     ],
     "prompt_number": 62
    },
    {
     "cell_type": "code",
     "collapsed": false,
     "input": [
      "spammer_classifier = BernoulliNB\n",
      "spammer_classifier = spam_classifier.fit(attributes_train, class_train)\n",
      "spammer_classifier_predicted = spam_classifier.predict(attributes_test)\n",
      "\n",
      "\n",
      "print(metrics.classification_report(class_test, spammer_classifier_predicted))\n",
      "print(metrics.confusion_matrix(class_test, spammer_classifier_predicted))\n",
      "print(metrics.f1_score(class_test, spammer_classifier_predicted))\n",
      "print(spam_classifier.score(attributes_test, class_test))"
     ],
     "language": "python",
     "metadata": {},
     "outputs": [
      {
       "output_type": "stream",
       "stream": "stdout",
       "text": [
        "             precision    recall  f1-score   support\n",
        "\n",
        "          0       0.98      0.95      0.96      1935\n",
        "          1       0.71      0.86      0.78       294\n",
        "\n",
        "avg / total       0.94      0.94      0.94      2229\n",
        "\n",
        "[[1832  103]\n",
        " [  40  254]]\n",
        "0.780337941628\n",
        "0.935845670704\n"
       ]
      }
     ],
     "prompt_number": 63
    },
    {
     "cell_type": "code",
     "collapsed": false,
     "input": [
      "spam_tree = DecisionTreeClassifier()\n",
      "spam_tree = spam_tree.fit(attributes_train, class_train)\n",
      "spam_tree_predicted = spam_tree.predict(attributes_test)\n",
      "spam_tree.score(attributes_test, class_test)\n",
      "print(metrics.classification_report(class_test, spam_tree_predicted))\n",
      "print(metrics.confusion_matrix(class_test, spam_tree_predicted))\n",
      "print(metrics.f1_score(class_test, spam_tree_predicted))\n",
      "print(spam_tree.feature_importances_)\n",
      "print(spam_tree.score(attributes_test, class_test))"
     ],
     "language": "python",
     "metadata": {},
     "outputs": [
      {
       "output_type": "stream",
       "stream": "stdout",
       "text": [
        "             precision    recall  f1-score   support\n",
        "\n",
        "          0       0.98      0.95      0.96      1935\n",
        "          1       0.71      0.86      0.78       294\n",
        "\n",
        "avg / total       0.94      0.94      0.94      2229\n",
        "\n",
        "[[1832  103]\n",
        " [  40  254]]\n",
        "0.780337941628\n",
        "[ 0.06447771  0.28076463  0.65475767]\n",
        "0.935845670704\n"
       ]
      }
     ],
     "prompt_number": 64
    },
    {
     "cell_type": "code",
     "collapsed": false,
     "input": [
      "spam_log = LogisticRegression()\n",
      "spam_log = spam_log.fit(attributes_train, class_train)\n",
      "spam_log = spam_log_predicted = spam_log.predict(attributes_test)\n",
      "print(metrics.classification_report(class_test, spam_log_predicted))\n",
      "print(metrics.confusion_matrix(class_test, spam_log_predicted))\n",
      "print(metrics.f1_score(class_test, spam_log_predicted))"
     ],
     "language": "python",
     "metadata": {},
     "outputs": [
      {
       "output_type": "stream",
       "stream": "stdout",
       "text": [
        "             precision    recall  f1-score   support\n",
        "\n",
        "          0       0.98      0.95      0.96      1935\n",
        "          1       0.71      0.86      0.78       294\n",
        "\n",
        "avg / total       0.94      0.94      0.94      2229\n",
        "\n",
        "[[1832  103]\n",
        " [  40  254]]\n",
        "0.780337941628\n"
       ]
      }
     ],
     "prompt_number": 65
    },
    {
     "cell_type": "code",
     "collapsed": false,
     "input": [
      "spam_messages = texts[['message']]\n",
      "spam_label = texts[[\"ham or spam\"]]"
     ],
     "language": "python",
     "metadata": {},
     "outputs": [],
     "prompt_number": 66
    },
    {
     "cell_type": "code",
     "collapsed": false,
     "input": [
      "bow_transformer = CountVectorizer(analyzer=split_into_lemmas).fit(spam_messages['message'])\n",
      "print(len(bow_transformer.vocabulary_))"
     ],
     "language": "python",
     "metadata": {},
     "outputs": [
      {
       "output_type": "stream",
       "stream": "stdout",
       "text": [
        "11032\n"
       ]
      }
     ],
     "prompt_number": 67
    },
    {
     "cell_type": "code",
     "collapsed": false,
     "input": [
      "messages_bow = bow_transformer.transform(spam_messages['message'])\n",
      "tfidf_transformer = TfidfTransformer().fit(messages_bow)"
     ],
     "language": "python",
     "metadata": {},
     "outputs": [],
     "prompt_number": 20
    },
    {
     "cell_type": "code",
     "collapsed": false,
     "input": [
      "messages_tfidf = tfidf_transformer.transform(messages_bow)\n",
      "print(messages_tfidf.shape)"
     ],
     "language": "python",
     "metadata": {},
     "outputs": [
      {
       "output_type": "stream",
       "stream": "stdout",
       "text": [
        "(5572, 11032)\n"
       ]
      }
     ],
     "prompt_number": 21
    },
    {
     "cell_type": "code",
     "collapsed": false,
     "input": [
      "attributes_train1, attributes_test1, class_train1, class_test1 = train_test_split(messages_tfidf.toarray(), spam_label,\n",
      "                                                                              test_size=0.4, random_state=0)"
     ],
     "language": "python",
     "metadata": {},
     "outputs": [],
     "prompt_number": 22
    },
    {
     "cell_type": "code",
     "collapsed": false,
     "input": [
      "spam_classifier = GaussianNB()\n",
      "spam_classifier = spam_classifier.fit(attributes_train1, class_train1)\n",
      "spam_classifier_predicted = spam_classifier.predict(attributes_test1)\n",
      "\n",
      "\n",
      "print(metrics.classification_report(class_test1, spam_classifier_predicted))\n",
      "print(metrics.confusion_matrix(class_test1, spam_classifier_predicted))\n",
      "print(metrics.f1_score(class_test1, spam_classifier_predicted))"
     ],
     "language": "python",
     "metadata": {},
     "outputs": [
      {
       "output_type": "stream",
       "stream": "stdout",
       "text": [
        "             precision    recall  f1-score   support\n",
        "\n",
        "          0       0.98      0.93      0.95      1935\n",
        "          1       0.64      0.87      0.74       294\n",
        "\n",
        "avg / total       0.94      0.92      0.92      2229\n",
        "\n",
        "[[1791  144]\n",
        " [  37  257]]\n",
        "0.739568345324\n"
       ]
      },
      {
       "output_type": "stream",
       "stream": "stderr",
       "text": [
        "/Users/Bodandly/.pyenv/versions/sms-spam/lib/python3.4/site-packages/sklearn/naive_bayes.py:150: DataConversionWarning: A column-vector y was passed when a 1d array was expected. Please change the shape of y to (n_samples, ), for example using ravel().\n",
        "  y = column_or_1d(y, warn=True)\n"
       ]
      }
     ],
     "prompt_number": 23
    },
    {
     "cell_type": "code",
     "collapsed": false,
     "input": [
      "kspam = KMeans(2)\n",
      "data_spam = texts[['greater than 24', 'pronouns', 'prize', 'numbers']]\n",
      "data_spam = data_spam.as_matrix()\n",
      "data_spam = preprocessing.scale(data_spam)\n",
      "kspam.fit(data_spam)"
     ],
     "language": "python",
     "metadata": {},
     "outputs": [
      {
       "output_type": "stream",
       "stream": "stderr",
       "text": [
        "/Users/Bodandly/.pyenv/versions/sms-spam/lib/python3.4/site-packages/sklearn/utils/validation.py:332: UserWarning: The scale function assumes floating point values as input, got int64\n",
        "  \"got %s\" % (estimator, X.dtype))\n",
        "/Users/Bodandly/.pyenv/versions/sms-spam/lib/python3.4/site-packages/sklearn/preprocessing/data.py:145: DeprecationWarning: Implicitly casting between incompatible kinds. In a future numpy release, this will raise an error. Use casting=\"unsafe\" if this is intentional.\n",
        "  Xr -= mean_\n",
        "/Users/Bodandly/.pyenv/versions/sms-spam/lib/python3.4/site-packages/sklearn/preprocessing/data.py:147: DeprecationWarning: Implicitly casting between incompatible kinds. In a future numpy release, this will raise an error. Use casting=\"unsafe\" if this is intentional.\n",
        "  Xr /= std_\n"
       ]
      },
      {
       "metadata": {},
       "output_type": "pyout",
       "prompt_number": 47,
       "text": [
        "KMeans(copy_x=True, init='k-means++', max_iter=300, n_clusters=2, n_init=10,\n",
        "    n_jobs=1, precompute_distances=True, random_state=None, tol=0.0001,\n",
        "    verbose=0)"
       ]
      }
     ],
     "prompt_number": 47
    },
    {
     "cell_type": "code",
     "collapsed": false,
     "input": [
      "pca = PCA(n_components=1).fit(data_spam)\n",
      "pca_2d = pca.transform(data_spam)\n",
      "\n",
      "cluster_2d = pca.transform(kspam.cluster_centers_)\n",
      "colors = [\"#E2415F\", \"#7FAF1B\", \"#090129\"]\n",
      "markers = [\"v\", \"D\", \"s\"]\n",
      "\n",
      "plt.figure(figsize=(8, 6))\n",
      "\n",
      "for i in range(pca_2d.shape[0]):\n",
      "    c = clusters[i]\n",
      "    color = colors[c]\n",
      "    plt.scatter(pca_2d[i,0], pca_2d[i, 1], color=color, marker=markers[iris.target[i]])\n",
      "    \n",
      "for i in range(cluster_2d.shape[0]):\n",
      "    plt.scatter(cluster_2d[i, 0], cluster_2d[i, 1], color='g', alpha='0.5', s=250, marker='o')\n",
      "\n",
      "plt.title(\"Iris dataset with three clusters\")\n",
      "plt.show()\n",
      "        "
     ],
     "language": "python",
     "metadata": {},
     "outputs": [
      {
       "ename": "ValueError",
       "evalue": "operands could not be broadcast together with shapes (2,4) (11144,) ",
       "output_type": "pyerr",
       "traceback": [
        "\u001b[0;31m---------------------------------------------------------------------------\u001b[0m\n\u001b[0;31mValueError\u001b[0m                                Traceback (most recent call last)",
        "\u001b[0;32m<ipython-input-42-2f55b972febe>\u001b[0m in \u001b[0;36m<module>\u001b[0;34m()\u001b[0m\n\u001b[1;32m      2\u001b[0m \u001b[0mpca_2d\u001b[0m \u001b[0;34m=\u001b[0m \u001b[0mpca\u001b[0m\u001b[0;34m.\u001b[0m\u001b[0mtransform\u001b[0m\u001b[0;34m(\u001b[0m\u001b[0mdata_spam\u001b[0m\u001b[0;34m)\u001b[0m\u001b[0;34m\u001b[0m\u001b[0m\n\u001b[1;32m      3\u001b[0m \u001b[0;34m\u001b[0m\u001b[0m\n\u001b[0;32m----> 4\u001b[0;31m \u001b[0mcluster_2d\u001b[0m \u001b[0;34m=\u001b[0m \u001b[0mpca\u001b[0m\u001b[0;34m.\u001b[0m\u001b[0mtransform\u001b[0m\u001b[0;34m(\u001b[0m\u001b[0mkspam\u001b[0m\u001b[0;34m.\u001b[0m\u001b[0mcluster_centers_\u001b[0m\u001b[0;34m)\u001b[0m\u001b[0;34m\u001b[0m\u001b[0m\n\u001b[0m\u001b[1;32m      5\u001b[0m \u001b[0mcolors\u001b[0m \u001b[0;34m=\u001b[0m \u001b[0;34m[\u001b[0m\u001b[0;34m\"#E2415F\"\u001b[0m\u001b[0;34m,\u001b[0m \u001b[0;34m\"#7FAF1B\"\u001b[0m\u001b[0;34m,\u001b[0m \u001b[0;34m\"#090129\"\u001b[0m\u001b[0;34m]\u001b[0m\u001b[0;34m\u001b[0m\u001b[0m\n\u001b[1;32m      6\u001b[0m \u001b[0mmarkers\u001b[0m \u001b[0;34m=\u001b[0m \u001b[0;34m[\u001b[0m\u001b[0;34m\"v\"\u001b[0m\u001b[0;34m,\u001b[0m \u001b[0;34m\"D\"\u001b[0m\u001b[0;34m,\u001b[0m \u001b[0;34m\"s\"\u001b[0m\u001b[0;34m]\u001b[0m\u001b[0;34m\u001b[0m\u001b[0m\n",
        "\u001b[0;32m/Users/Bodandly/.pyenv/versions/sms-spam/lib/python3.4/site-packages/sklearn/decomposition/pca.py\u001b[0m in \u001b[0;36mtransform\u001b[0;34m(self, X)\u001b[0m\n\u001b[1;32m    393\u001b[0m         \u001b[0mX\u001b[0m \u001b[0;34m=\u001b[0m \u001b[0marray2d\u001b[0m\u001b[0;34m(\u001b[0m\u001b[0mX\u001b[0m\u001b[0;34m)\u001b[0m\u001b[0;34m\u001b[0m\u001b[0m\n\u001b[1;32m    394\u001b[0m         \u001b[0;32mif\u001b[0m \u001b[0mself\u001b[0m\u001b[0;34m.\u001b[0m\u001b[0mmean_\u001b[0m \u001b[0;32mis\u001b[0m \u001b[0;32mnot\u001b[0m \u001b[0;32mNone\u001b[0m\u001b[0;34m:\u001b[0m\u001b[0;34m\u001b[0m\u001b[0m\n\u001b[0;32m--> 395\u001b[0;31m             \u001b[0mX\u001b[0m \u001b[0;34m=\u001b[0m \u001b[0mX\u001b[0m \u001b[0;34m-\u001b[0m \u001b[0mself\u001b[0m\u001b[0;34m.\u001b[0m\u001b[0mmean_\u001b[0m\u001b[0;34m\u001b[0m\u001b[0m\n\u001b[0m\u001b[1;32m    396\u001b[0m         \u001b[0mX_transformed\u001b[0m \u001b[0;34m=\u001b[0m \u001b[0mfast_dot\u001b[0m\u001b[0;34m(\u001b[0m\u001b[0mX\u001b[0m\u001b[0;34m,\u001b[0m \u001b[0mself\u001b[0m\u001b[0;34m.\u001b[0m\u001b[0mcomponents_\u001b[0m\u001b[0;34m.\u001b[0m\u001b[0mT\u001b[0m\u001b[0;34m)\u001b[0m\u001b[0;34m\u001b[0m\u001b[0m\n\u001b[1;32m    397\u001b[0m         \u001b[0;32mreturn\u001b[0m \u001b[0mX_transformed\u001b[0m\u001b[0;34m\u001b[0m\u001b[0m\n",
        "\u001b[0;31mValueError\u001b[0m: operands could not be broadcast together with shapes (2,4) (11144,) "
       ]
      }
     ],
     "prompt_number": 42
    },
    {
     "cell_type": "code",
     "collapsed": false,
     "input": [
      "clusters = kspam.predict(data_spam)\n"
     ],
     "language": "python",
     "metadata": {},
     "outputs": [
      {
       "ename": "ValueError",
       "evalue": "Incorrect number of features. Got 11144 features, expected 4",
       "output_type": "pyerr",
       "traceback": [
        "\u001b[0;31m---------------------------------------------------------------------------\u001b[0m\n\u001b[0;31mValueError\u001b[0m                                Traceback (most recent call last)",
        "\u001b[0;32m<ipython-input-43-5606418a8ca7>\u001b[0m in \u001b[0;36m<module>\u001b[0;34m()\u001b[0m\n\u001b[0;32m----> 1\u001b[0;31m \u001b[0mclusters\u001b[0m \u001b[0;34m=\u001b[0m \u001b[0mkspam\u001b[0m\u001b[0;34m.\u001b[0m\u001b[0mpredict\u001b[0m\u001b[0;34m(\u001b[0m\u001b[0mdata_spam\u001b[0m\u001b[0;34m)\u001b[0m\u001b[0;34m\u001b[0m\u001b[0m\n\u001b[0m",
        "\u001b[0;32m/Users/Bodandly/.pyenv/versions/sms-spam/lib/python3.4/site-packages/sklearn/cluster/k_means_.py\u001b[0m in \u001b[0;36mpredict\u001b[0;34m(self, X)\u001b[0m\n\u001b[1;32m    795\u001b[0m         \"\"\"\n\u001b[1;32m    796\u001b[0m         \u001b[0mself\u001b[0m\u001b[0;34m.\u001b[0m\u001b[0m_check_fitted\u001b[0m\u001b[0;34m(\u001b[0m\u001b[0;34m)\u001b[0m\u001b[0;34m\u001b[0m\u001b[0m\n\u001b[0;32m--> 797\u001b[0;31m         \u001b[0mX\u001b[0m \u001b[0;34m=\u001b[0m \u001b[0mself\u001b[0m\u001b[0;34m.\u001b[0m\u001b[0m_check_test_data\u001b[0m\u001b[0;34m(\u001b[0m\u001b[0mX\u001b[0m\u001b[0;34m)\u001b[0m\u001b[0;34m\u001b[0m\u001b[0m\n\u001b[0m\u001b[1;32m    798\u001b[0m         \u001b[0mx_squared_norms\u001b[0m \u001b[0;34m=\u001b[0m \u001b[0mrow_norms\u001b[0m\u001b[0;34m(\u001b[0m\u001b[0mX\u001b[0m\u001b[0;34m,\u001b[0m \u001b[0msquared\u001b[0m\u001b[0;34m=\u001b[0m\u001b[0;32mTrue\u001b[0m\u001b[0;34m)\u001b[0m\u001b[0;34m\u001b[0m\u001b[0m\n\u001b[1;32m    799\u001b[0m         \u001b[0;32mreturn\u001b[0m \u001b[0m_labels_inertia\u001b[0m\u001b[0;34m(\u001b[0m\u001b[0mX\u001b[0m\u001b[0;34m,\u001b[0m \u001b[0mx_squared_norms\u001b[0m\u001b[0;34m,\u001b[0m \u001b[0mself\u001b[0m\u001b[0;34m.\u001b[0m\u001b[0mcluster_centers_\u001b[0m\u001b[0;34m)\u001b[0m\u001b[0;34m[\u001b[0m\u001b[0;36m0\u001b[0m\u001b[0;34m]\u001b[0m\u001b[0;34m\u001b[0m\u001b[0m\n",
        "\u001b[0;32m/Users/Bodandly/.pyenv/versions/sms-spam/lib/python3.4/site-packages/sklearn/cluster/k_means_.py\u001b[0m in \u001b[0;36m_check_test_data\u001b[0;34m(self, X)\u001b[0m\n\u001b[1;32m    701\u001b[0m             raise ValueError(\"Incorrect number of features. \"\n\u001b[1;32m    702\u001b[0m                              \"Got %d features, expected %d\" % (\n\u001b[0;32m--> 703\u001b[0;31m                                  n_features, expected_n_features))\n\u001b[0m\u001b[1;32m    704\u001b[0m         \u001b[0;32mif\u001b[0m \u001b[0;32mnot\u001b[0m \u001b[0mX\u001b[0m\u001b[0;34m.\u001b[0m\u001b[0mdtype\u001b[0m\u001b[0;34m.\u001b[0m\u001b[0mkind\u001b[0m \u001b[0;32mis\u001b[0m \u001b[0;34m'f'\u001b[0m\u001b[0;34m:\u001b[0m\u001b[0;34m\u001b[0m\u001b[0m\n\u001b[1;32m    705\u001b[0m             warnings.warn(\"Got data type %s, converted to float \"\n",
        "\u001b[0;31mValueError\u001b[0m: Incorrect number of features. Got 11144 features, expected 4"
       ]
      }
     ],
     "prompt_number": 43
    },
    {
     "cell_type": "code",
     "collapsed": false,
     "input": [
      "data_spam.shape"
     ],
     "language": "python",
     "metadata": {},
     "outputs": [
      {
       "metadata": {},
       "output_type": "pyout",
       "prompt_number": 44,
       "text": [
        "(2, 11144)"
       ]
      }
     ],
     "prompt_number": 44
    },
    {
     "cell_type": "code",
     "collapsed": false,
     "input": [
      "data_spam = data_spam.reshape(2,-1)"
     ],
     "language": "python",
     "metadata": {},
     "outputs": [],
     "prompt_number": 45
    },
    {
     "cell_type": "code",
     "collapsed": false,
     "input": [
      "data_spam.shape"
     ],
     "language": "python",
     "metadata": {},
     "outputs": [
      {
       "metadata": {},
       "output_type": "pyout",
       "prompt_number": 46,
       "text": [
        "(2, 11144)"
       ]
      }
     ],
     "prompt_number": 46
    },
    {
     "cell_type": "code",
     "collapsed": false,
     "input": [],
     "language": "python",
     "metadata": {},
     "outputs": []
    }
   ],
   "metadata": {}
  }
 ]
}